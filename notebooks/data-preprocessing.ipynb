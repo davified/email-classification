{
 "cells": [
  {
   "cell_type": "code",
   "execution_count": 7,
   "metadata": {},
   "outputs": [],
   "source": [
    "import os\n",
    "import pandas as pd"
   ]
  },
  {
   "cell_type": "code",
   "execution_count": 8,
   "metadata": {},
   "outputs": [],
   "source": [
    "data = open('../data/enron_with_categories/categories.txt', mode='r')"
   ]
  },
  {
   "cell_type": "code",
   "execution_count": 9,
   "metadata": {},
   "outputs": [],
   "source": [
    "# given a directory, list all files\n",
    "# for each file, extract {filename: [labels]}\n",
    "# return [{filen1: [labels]}, {file2: [labels]}, {file3: [labels]}]"
   ]
  },
  {
   "cell_type": "code",
   "execution_count": 27,
   "metadata": {},
   "outputs": [],
   "source": [
    "def load_files_in_directory(source_directory, file_ext):\n",
    "    categories = {}\n",
    "    for i, file in enumerate(os.listdir(source_dir)):\n",
    "        if file_ext in file:\n",
    "            contents = open('{}/{}'.format(source_directory, file), mode='r')\n",
    "            key = int(file.split('.')[0])\n",
    "            categories[key] = contents.read()\n",
    "                    \n",
    "    return categories\n",
    "\n",
    "\n",
    "project_dir = os.getcwd()\n",
    "source_dir = os.path.join(project_dir, '../data/enron_with_categories/1')\n",
    "categories = load_files_in_directory(source_dir, '.cats')\n",
    "assert len(categories) == 834\n",
    "assert isinstance(categories, dict)\n",
    "assert categories[10425] == \"\"\"1,1,1\n",
    "2,6,1\n",
    "2,13,1\n",
    "3,3,1\n",
    "\"\"\""
   ]
  },
  {
   "cell_type": "code",
   "execution_count": 50,
   "metadata": {},
   "outputs": [],
   "source": [
    "from collections import OrderedDict\n",
    "\n",
    "def sort_dictionary_by_keys(dictionary):\n",
    "    return OrderedDict(sorted(dictionary.items()))\n",
    "\n",
    "sorted_categories = sort_dictionary_by_keys(categories)\n",
    "assert len(sorted_categories) == len (categories)\n",
    "assert categories[10425] == \"\"\"1,1,1\n",
    "2,6,1\n",
    "2,13,1\n",
    "3,3,1\n",
    "\"\"\"\n",
    "sorted_categories_keys = list(sorted_categories.keys())\n",
    "assert sorted_categories_keys[1] > sorted_categories_keys[0]\n",
    "assert sorted_categories_keys[2] > sorted_categories_keys[1]\n"
   ]
  }
 ],
 "metadata": {
  "kernelspec": {
   "display_name": "tw-ml-template",
   "language": "python",
   "name": "tw-ml-template"
  },
  "language_info": {
   "codemirror_mode": {
    "name": "ipython",
    "version": 3
   },
   "file_extension": ".py",
   "mimetype": "text/x-python",
   "name": "python",
   "nbconvert_exporter": "python",
   "pygments_lexer": "ipython3",
   "version": "3.6.3"
  }
 },
 "nbformat": 4,
 "nbformat_minor": 2
}
